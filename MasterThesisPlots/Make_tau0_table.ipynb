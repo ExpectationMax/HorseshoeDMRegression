{
 "cells": [
  {
   "cell_type": "code",
   "execution_count": 1,
   "metadata": {},
   "outputs": [
    {
     "name": "stderr",
     "output_type": "stream",
     "text": [
      "/Users/maexlich/.miniconda/envs/bayesian_microbiome/lib/python3.6/site-packages/matplotlib/__init__.py:1405: UserWarning: \n",
      "This call to matplotlib.use() has no effect because the backend has already\n",
      "been chosen; matplotlib.use() must be called *before* pylab, matplotlib.pyplot,\n",
      "or matplotlib.backends is imported for the first time.\n",
      "\n",
      "  warnings.warn(_use_error_msg)\n"
     ]
    }
   ],
   "source": [
    "%matplotlib inline\n",
    "import pandas as pd\n",
    "import sys\n",
    "sys.path.append('../')\n",
    "from data import get_available_datasets\n",
    "from utils.sampling import compute_tau\n",
    "from normalize_parameters import split_datasetname_into_parameters"
   ]
  },
  {
   "cell_type": "code",
   "execution_count": 2,
   "metadata": {},
   "outputs": [
    {
     "data": {
      "text/html": [
       "<div>\n",
       "<style>\n",
       "    .dataframe thead tr:only-child th {\n",
       "        text-align: right;\n",
       "    }\n",
       "\n",
       "    .dataframe thead th {\n",
       "        text-align: left;\n",
       "    }\n",
       "\n",
       "    .dataframe tbody tr th {\n",
       "        vertical-align: top;\n",
       "    }\n",
       "</style>\n",
       "<table border=\"1\" class=\"dataframe\">\n",
       "  <thead>\n",
       "    <tr style=\"text-align: right;\">\n",
       "      <th></th>\n",
       "      <th>OTUs</th>\n",
       "      <th>Covariates</th>\n",
       "      <th>Data p0</th>\n",
       "      <th>Samples</th>\n",
       "      <th>$\\tau_0$</th>\n",
       "    </tr>\n",
       "  </thead>\n",
       "  <tbody>\n",
       "    <tr>\n",
       "      <th>78</th>\n",
       "      <td>40</td>\n",
       "      <td>10</td>\n",
       "      <td>20</td>\n",
       "      <td>20</td>\n",
       "      <td>0.011769</td>\n",
       "    </tr>\n",
       "    <tr>\n",
       "      <th>82</th>\n",
       "      <td>40</td>\n",
       "      <td>10</td>\n",
       "      <td>20</td>\n",
       "      <td>60</td>\n",
       "      <td>0.006795</td>\n",
       "    </tr>\n",
       "    <tr>\n",
       "      <th>72</th>\n",
       "      <td>40</td>\n",
       "      <td>10</td>\n",
       "      <td>20</td>\n",
       "      <td>100</td>\n",
       "      <td>0.005263</td>\n",
       "    </tr>\n",
       "    <tr>\n",
       "      <th>74</th>\n",
       "      <td>40</td>\n",
       "      <td>10</td>\n",
       "      <td>20</td>\n",
       "      <td>140</td>\n",
       "      <td>0.004448</td>\n",
       "    </tr>\n",
       "    <tr>\n",
       "      <th>76</th>\n",
       "      <td>40</td>\n",
       "      <td>10</td>\n",
       "      <td>20</td>\n",
       "      <td>180</td>\n",
       "      <td>0.003923</td>\n",
       "    </tr>\n",
       "  </tbody>\n",
       "</table>\n",
       "</div>"
      ],
      "text/plain": [
       "    OTUs  Covariates  Data p0  Samples  $\\tau_0$\n",
       "78    40          10       20       20  0.011769\n",
       "82    40          10       20       60  0.006795\n",
       "72    40          10       20      100  0.005263\n",
       "74    40          10       20      140  0.004448\n",
       "76    40          10       20      180  0.003923"
      ]
     },
     "execution_count": 2,
     "metadata": {},
     "output_type": "execute_result"
    }
   ],
   "source": [
    "datasets = pd.DataFrame([d for d in get_available_datasets() if d != 'old'], columns=['Dataset'])\n",
    "dataset_parameters, datasets_splitted = split_datasetname_into_parameters(datasets['Dataset'])\n",
    "\n",
    "tau_computer = lambda data: compute_tau(data['OTUs'], data['Covariates'], data['Samples'], data['Data p0'])\n",
    "datasets_splitted['$\\\\tau_0$'] = datasets_splitted.apply(tau_computer, axis=1)\n",
    "datasets_splitted.drop(['Repetition'], axis=1, inplace=True)\n",
    "datasets_splitted.sort_values(['OTUs', 'Covariates', 'Data p0', 'Samples'], inplace=True)\n",
    "datasets_splitted = datasets_splitted[~datasets_splitted.duplicated()]\n",
    "datasets_splitted.head()"
   ]
  },
  {
   "cell_type": "code",
   "execution_count": 5,
   "metadata": {
    "collapsed": true
   },
   "outputs": [],
   "source": [
    "with open('/Users/maexlich/Google Drive/Studium/Master/4. Masterthesis/3. Thesis/include/Results/tau0_table.tex', 'w') as f:\n",
    "    f.write(datasets_splitted.to_latex(index=False, escape=False, longtable=True))"
   ]
  },
  {
   "cell_type": "code",
   "execution_count": null,
   "metadata": {
    "collapsed": true
   },
   "outputs": [],
   "source": []
  }
 ],
 "metadata": {
  "kernelspec": {
   "display_name": "Python 3",
   "language": "python",
   "name": "python3"
  },
  "language_info": {
   "codemirror_mode": {
    "name": "ipython",
    "version": 3
   },
   "file_extension": ".py",
   "mimetype": "text/x-python",
   "name": "python",
   "nbconvert_exporter": "python",
   "pygments_lexer": "ipython3",
   "version": "3.6.1"
  }
 },
 "nbformat": 4,
 "nbformat_minor": 2
}
